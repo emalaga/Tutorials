{
 "cells": [
  {
   "cell_type": "markdown",
   "id": "7ea19f96",
   "metadata": {},
   "source": [
    "# Building a minimal RAG with Granite 4 Micro\n",
    "\n",
    "This notebook illustrates how to use the IBM Granite 4 Micro LLM, which doesn't require GPUs and can be used in even machines with basic configuraitons, to build a RAG applications in 3 simple steps. "
   ]
  },
  {
   "cell_type": "markdown",
   "id": "663846da",
   "metadata": {},
   "source": [
    "### Setting up Libraries"
   ]
  },
  {
   "cell_type": "markdown",
   "id": "ca4894a5",
   "metadata": {},
   "source": [
    "Installing libraries. This need to run only once."
   ]
  },
  {
   "cell_type": "code",
   "execution_count": 3,
   "id": "f5b6daa3",
   "metadata": {},
   "outputs": [
    {
     "name": "stdout",
     "output_type": "stream",
     "text": [
      "Requirement already satisfied: langchain-ollama in /Users/eduardo/Dropbox/Ed Work/Coding Projects/Tutorials/.venv/lib/python3.13/site-packages (0.3.10)\n",
      "Requirement already satisfied: ollama<1.0.0,>=0.5.3 in /Users/eduardo/Dropbox/Ed Work/Coding Projects/Tutorials/.venv/lib/python3.13/site-packages (from langchain-ollama) (0.6.0)\n",
      "Requirement already satisfied: langchain-core<2.0.0,>=0.3.76 in /Users/eduardo/Dropbox/Ed Work/Coding Projects/Tutorials/.venv/lib/python3.13/site-packages (from langchain-ollama) (0.3.79)\n",
      "Requirement already satisfied: langsmith<1.0.0,>=0.3.45 in /Users/eduardo/Dropbox/Ed Work/Coding Projects/Tutorials/.venv/lib/python3.13/site-packages (from langchain-core<2.0.0,>=0.3.76->langchain-ollama) (0.4.35)\n",
      "Requirement already satisfied: tenacity!=8.4.0,<10.0.0,>=8.1.0 in /Users/eduardo/Dropbox/Ed Work/Coding Projects/Tutorials/.venv/lib/python3.13/site-packages (from langchain-core<2.0.0,>=0.3.76->langchain-ollama) (9.1.2)\n",
      "Requirement already satisfied: jsonpatch<2.0.0,>=1.33.0 in /Users/eduardo/Dropbox/Ed Work/Coding Projects/Tutorials/.venv/lib/python3.13/site-packages (from langchain-core<2.0.0,>=0.3.76->langchain-ollama) (1.33)\n",
      "Requirement already satisfied: PyYAML<7.0.0,>=5.3.0 in /Users/eduardo/Dropbox/Ed Work/Coding Projects/Tutorials/.venv/lib/python3.13/site-packages (from langchain-core<2.0.0,>=0.3.76->langchain-ollama) (6.0.3)\n",
      "Requirement already satisfied: typing-extensions<5.0.0,>=4.7.0 in /Users/eduardo/Dropbox/Ed Work/Coding Projects/Tutorials/.venv/lib/python3.13/site-packages (from langchain-core<2.0.0,>=0.3.76->langchain-ollama) (4.15.0)\n",
      "Requirement already satisfied: packaging<26.0.0,>=23.2.0 in /Users/eduardo/Dropbox/Ed Work/Coding Projects/Tutorials/.venv/lib/python3.13/site-packages (from langchain-core<2.0.0,>=0.3.76->langchain-ollama) (25.0)\n",
      "Requirement already satisfied: pydantic<3.0.0,>=2.7.4 in /Users/eduardo/Dropbox/Ed Work/Coding Projects/Tutorials/.venv/lib/python3.13/site-packages (from langchain-core<2.0.0,>=0.3.76->langchain-ollama) (2.12.2)\n",
      "Requirement already satisfied: jsonpointer>=1.9 in /Users/eduardo/Dropbox/Ed Work/Coding Projects/Tutorials/.venv/lib/python3.13/site-packages (from jsonpatch<2.0.0,>=1.33.0->langchain-core<2.0.0,>=0.3.76->langchain-ollama) (3.0.0)\n",
      "Requirement already satisfied: httpx<1,>=0.23.0 in /Users/eduardo/Dropbox/Ed Work/Coding Projects/Tutorials/.venv/lib/python3.13/site-packages (from langsmith<1.0.0,>=0.3.45->langchain-core<2.0.0,>=0.3.76->langchain-ollama) (0.28.1)\n",
      "Requirement already satisfied: orjson>=3.9.14 in /Users/eduardo/Dropbox/Ed Work/Coding Projects/Tutorials/.venv/lib/python3.13/site-packages (from langsmith<1.0.0,>=0.3.45->langchain-core<2.0.0,>=0.3.76->langchain-ollama) (3.11.3)\n",
      "Requirement already satisfied: requests-toolbelt>=1.0.0 in /Users/eduardo/Dropbox/Ed Work/Coding Projects/Tutorials/.venv/lib/python3.13/site-packages (from langsmith<1.0.0,>=0.3.45->langchain-core<2.0.0,>=0.3.76->langchain-ollama) (1.0.0)\n",
      "Requirement already satisfied: requests>=2.0.0 in /Users/eduardo/Dropbox/Ed Work/Coding Projects/Tutorials/.venv/lib/python3.13/site-packages (from langsmith<1.0.0,>=0.3.45->langchain-core<2.0.0,>=0.3.76->langchain-ollama) (2.32.5)\n",
      "Requirement already satisfied: zstandard>=0.23.0 in /Users/eduardo/Dropbox/Ed Work/Coding Projects/Tutorials/.venv/lib/python3.13/site-packages (from langsmith<1.0.0,>=0.3.45->langchain-core<2.0.0,>=0.3.76->langchain-ollama) (0.25.0)\n",
      "Requirement already satisfied: anyio in /Users/eduardo/Dropbox/Ed Work/Coding Projects/Tutorials/.venv/lib/python3.13/site-packages (from httpx<1,>=0.23.0->langsmith<1.0.0,>=0.3.45->langchain-core<2.0.0,>=0.3.76->langchain-ollama) (4.11.0)\n",
      "Requirement already satisfied: certifi in /Users/eduardo/Dropbox/Ed Work/Coding Projects/Tutorials/.venv/lib/python3.13/site-packages (from httpx<1,>=0.23.0->langsmith<1.0.0,>=0.3.45->langchain-core<2.0.0,>=0.3.76->langchain-ollama) (2025.10.5)\n",
      "Requirement already satisfied: httpcore==1.* in /Users/eduardo/Dropbox/Ed Work/Coding Projects/Tutorials/.venv/lib/python3.13/site-packages (from httpx<1,>=0.23.0->langsmith<1.0.0,>=0.3.45->langchain-core<2.0.0,>=0.3.76->langchain-ollama) (1.0.9)\n",
      "Requirement already satisfied: idna in /Users/eduardo/Dropbox/Ed Work/Coding Projects/Tutorials/.venv/lib/python3.13/site-packages (from httpx<1,>=0.23.0->langsmith<1.0.0,>=0.3.45->langchain-core<2.0.0,>=0.3.76->langchain-ollama) (3.11)\n",
      "Requirement already satisfied: h11>=0.16 in /Users/eduardo/Dropbox/Ed Work/Coding Projects/Tutorials/.venv/lib/python3.13/site-packages (from httpcore==1.*->httpx<1,>=0.23.0->langsmith<1.0.0,>=0.3.45->langchain-core<2.0.0,>=0.3.76->langchain-ollama) (0.16.0)\n",
      "Requirement already satisfied: annotated-types>=0.6.0 in /Users/eduardo/Dropbox/Ed Work/Coding Projects/Tutorials/.venv/lib/python3.13/site-packages (from pydantic<3.0.0,>=2.7.4->langchain-core<2.0.0,>=0.3.76->langchain-ollama) (0.7.0)\n",
      "Requirement already satisfied: pydantic-core==2.41.4 in /Users/eduardo/Dropbox/Ed Work/Coding Projects/Tutorials/.venv/lib/python3.13/site-packages (from pydantic<3.0.0,>=2.7.4->langchain-core<2.0.0,>=0.3.76->langchain-ollama) (2.41.4)\n",
      "Requirement already satisfied: typing-inspection>=0.4.2 in /Users/eduardo/Dropbox/Ed Work/Coding Projects/Tutorials/.venv/lib/python3.13/site-packages (from pydantic<3.0.0,>=2.7.4->langchain-core<2.0.0,>=0.3.76->langchain-ollama) (0.4.2)\n",
      "Requirement already satisfied: charset_normalizer<4,>=2 in /Users/eduardo/Dropbox/Ed Work/Coding Projects/Tutorials/.venv/lib/python3.13/site-packages (from requests>=2.0.0->langsmith<1.0.0,>=0.3.45->langchain-core<2.0.0,>=0.3.76->langchain-ollama) (3.4.4)\n",
      "Requirement already satisfied: urllib3<3,>=1.21.1 in /Users/eduardo/Dropbox/Ed Work/Coding Projects/Tutorials/.venv/lib/python3.13/site-packages (from requests>=2.0.0->langsmith<1.0.0,>=0.3.45->langchain-core<2.0.0,>=0.3.76->langchain-ollama) (2.5.0)\n",
      "Requirement already satisfied: sniffio>=1.1 in /Users/eduardo/Dropbox/Ed Work/Coding Projects/Tutorials/.venv/lib/python3.13/site-packages (from anyio->httpx<1,>=0.23.0->langsmith<1.0.0,>=0.3.45->langchain-core<2.0.0,>=0.3.76->langchain-ollama) (1.3.1)\n",
      "Note: you may need to restart the kernel to use updated packages.\n",
      "Requirement already satisfied: langchain-community in /Users/eduardo/Dropbox/Ed Work/Coding Projects/Tutorials/.venv/lib/python3.13/site-packages (0.3.31)\n",
      "Requirement already satisfied: langchain-core<2.0.0,>=0.3.78 in /Users/eduardo/Dropbox/Ed Work/Coding Projects/Tutorials/.venv/lib/python3.13/site-packages (from langchain-community) (0.3.79)\n",
      "Requirement already satisfied: langchain<2.0.0,>=0.3.27 in /Users/eduardo/Dropbox/Ed Work/Coding Projects/Tutorials/.venv/lib/python3.13/site-packages (from langchain-community) (0.3.27)\n",
      "Requirement already satisfied: SQLAlchemy<3.0.0,>=1.4.0 in /Users/eduardo/Dropbox/Ed Work/Coding Projects/Tutorials/.venv/lib/python3.13/site-packages (from langchain-community) (2.0.44)\n",
      "Requirement already satisfied: requests<3.0.0,>=2.32.5 in /Users/eduardo/Dropbox/Ed Work/Coding Projects/Tutorials/.venv/lib/python3.13/site-packages (from langchain-community) (2.32.5)\n",
      "Requirement already satisfied: PyYAML<7.0.0,>=5.3.0 in /Users/eduardo/Dropbox/Ed Work/Coding Projects/Tutorials/.venv/lib/python3.13/site-packages (from langchain-community) (6.0.3)\n",
      "Requirement already satisfied: aiohttp<4.0.0,>=3.8.3 in /Users/eduardo/Dropbox/Ed Work/Coding Projects/Tutorials/.venv/lib/python3.13/site-packages (from langchain-community) (3.13.0)\n",
      "Requirement already satisfied: tenacity!=8.4.0,<10.0.0,>=8.1.0 in /Users/eduardo/Dropbox/Ed Work/Coding Projects/Tutorials/.venv/lib/python3.13/site-packages (from langchain-community) (9.1.2)\n",
      "Requirement already satisfied: dataclasses-json<0.7.0,>=0.6.7 in /Users/eduardo/Dropbox/Ed Work/Coding Projects/Tutorials/.venv/lib/python3.13/site-packages (from langchain-community) (0.6.7)\n",
      "Requirement already satisfied: pydantic-settings<3.0.0,>=2.10.1 in /Users/eduardo/Dropbox/Ed Work/Coding Projects/Tutorials/.venv/lib/python3.13/site-packages (from langchain-community) (2.11.0)\n",
      "Requirement already satisfied: langsmith<1.0.0,>=0.1.125 in /Users/eduardo/Dropbox/Ed Work/Coding Projects/Tutorials/.venv/lib/python3.13/site-packages (from langchain-community) (0.4.35)\n",
      "Requirement already satisfied: httpx-sse<1.0.0,>=0.4.0 in /Users/eduardo/Dropbox/Ed Work/Coding Projects/Tutorials/.venv/lib/python3.13/site-packages (from langchain-community) (0.4.3)\n",
      "Requirement already satisfied: numpy>=2.1.0 in /Users/eduardo/Dropbox/Ed Work/Coding Projects/Tutorials/.venv/lib/python3.13/site-packages (from langchain-community) (2.2.6)\n",
      "Requirement already satisfied: aiohappyeyeballs>=2.5.0 in /Users/eduardo/Dropbox/Ed Work/Coding Projects/Tutorials/.venv/lib/python3.13/site-packages (from aiohttp<4.0.0,>=3.8.3->langchain-community) (2.6.1)\n",
      "Requirement already satisfied: aiosignal>=1.4.0 in /Users/eduardo/Dropbox/Ed Work/Coding Projects/Tutorials/.venv/lib/python3.13/site-packages (from aiohttp<4.0.0,>=3.8.3->langchain-community) (1.4.0)\n",
      "Requirement already satisfied: attrs>=17.3.0 in /Users/eduardo/Dropbox/Ed Work/Coding Projects/Tutorials/.venv/lib/python3.13/site-packages (from aiohttp<4.0.0,>=3.8.3->langchain-community) (25.4.0)\n",
      "Requirement already satisfied: frozenlist>=1.1.1 in /Users/eduardo/Dropbox/Ed Work/Coding Projects/Tutorials/.venv/lib/python3.13/site-packages (from aiohttp<4.0.0,>=3.8.3->langchain-community) (1.8.0)\n",
      "Requirement already satisfied: multidict<7.0,>=4.5 in /Users/eduardo/Dropbox/Ed Work/Coding Projects/Tutorials/.venv/lib/python3.13/site-packages (from aiohttp<4.0.0,>=3.8.3->langchain-community) (6.7.0)\n",
      "Requirement already satisfied: propcache>=0.2.0 in /Users/eduardo/Dropbox/Ed Work/Coding Projects/Tutorials/.venv/lib/python3.13/site-packages (from aiohttp<4.0.0,>=3.8.3->langchain-community) (0.4.1)\n",
      "Requirement already satisfied: yarl<2.0,>=1.17.0 in /Users/eduardo/Dropbox/Ed Work/Coding Projects/Tutorials/.venv/lib/python3.13/site-packages (from aiohttp<4.0.0,>=3.8.3->langchain-community) (1.22.0)\n",
      "Requirement already satisfied: marshmallow<4.0.0,>=3.18.0 in /Users/eduardo/Dropbox/Ed Work/Coding Projects/Tutorials/.venv/lib/python3.13/site-packages (from dataclasses-json<0.7.0,>=0.6.7->langchain-community) (3.26.1)\n",
      "Requirement already satisfied: typing-inspect<1,>=0.4.0 in /Users/eduardo/Dropbox/Ed Work/Coding Projects/Tutorials/.venv/lib/python3.13/site-packages (from dataclasses-json<0.7.0,>=0.6.7->langchain-community) (0.9.0)\n",
      "Requirement already satisfied: langchain-text-splitters<1.0.0,>=0.3.9 in /Users/eduardo/Dropbox/Ed Work/Coding Projects/Tutorials/.venv/lib/python3.13/site-packages (from langchain<2.0.0,>=0.3.27->langchain-community) (0.3.11)\n",
      "Requirement already satisfied: pydantic<3.0.0,>=2.7.4 in /Users/eduardo/Dropbox/Ed Work/Coding Projects/Tutorials/.venv/lib/python3.13/site-packages (from langchain<2.0.0,>=0.3.27->langchain-community) (2.12.2)\n",
      "Requirement already satisfied: jsonpatch<2.0.0,>=1.33.0 in /Users/eduardo/Dropbox/Ed Work/Coding Projects/Tutorials/.venv/lib/python3.13/site-packages (from langchain-core<2.0.0,>=0.3.78->langchain-community) (1.33)\n",
      "Requirement already satisfied: typing-extensions<5.0.0,>=4.7.0 in /Users/eduardo/Dropbox/Ed Work/Coding Projects/Tutorials/.venv/lib/python3.13/site-packages (from langchain-core<2.0.0,>=0.3.78->langchain-community) (4.15.0)\n",
      "Requirement already satisfied: packaging<26.0.0,>=23.2.0 in /Users/eduardo/Dropbox/Ed Work/Coding Projects/Tutorials/.venv/lib/python3.13/site-packages (from langchain-core<2.0.0,>=0.3.78->langchain-community) (25.0)\n",
      "Requirement already satisfied: jsonpointer>=1.9 in /Users/eduardo/Dropbox/Ed Work/Coding Projects/Tutorials/.venv/lib/python3.13/site-packages (from jsonpatch<2.0.0,>=1.33.0->langchain-core<2.0.0,>=0.3.78->langchain-community) (3.0.0)\n",
      "Requirement already satisfied: httpx<1,>=0.23.0 in /Users/eduardo/Dropbox/Ed Work/Coding Projects/Tutorials/.venv/lib/python3.13/site-packages (from langsmith<1.0.0,>=0.1.125->langchain-community) (0.28.1)\n",
      "Requirement already satisfied: orjson>=3.9.14 in /Users/eduardo/Dropbox/Ed Work/Coding Projects/Tutorials/.venv/lib/python3.13/site-packages (from langsmith<1.0.0,>=0.1.125->langchain-community) (3.11.3)\n",
      "Requirement already satisfied: requests-toolbelt>=1.0.0 in /Users/eduardo/Dropbox/Ed Work/Coding Projects/Tutorials/.venv/lib/python3.13/site-packages (from langsmith<1.0.0,>=0.1.125->langchain-community) (1.0.0)\n",
      "Requirement already satisfied: zstandard>=0.23.0 in /Users/eduardo/Dropbox/Ed Work/Coding Projects/Tutorials/.venv/lib/python3.13/site-packages (from langsmith<1.0.0,>=0.1.125->langchain-community) (0.25.0)\n",
      "Requirement already satisfied: anyio in /Users/eduardo/Dropbox/Ed Work/Coding Projects/Tutorials/.venv/lib/python3.13/site-packages (from httpx<1,>=0.23.0->langsmith<1.0.0,>=0.1.125->langchain-community) (4.11.0)\n",
      "Requirement already satisfied: certifi in /Users/eduardo/Dropbox/Ed Work/Coding Projects/Tutorials/.venv/lib/python3.13/site-packages (from httpx<1,>=0.23.0->langsmith<1.0.0,>=0.1.125->langchain-community) (2025.10.5)\n",
      "Requirement already satisfied: httpcore==1.* in /Users/eduardo/Dropbox/Ed Work/Coding Projects/Tutorials/.venv/lib/python3.13/site-packages (from httpx<1,>=0.23.0->langsmith<1.0.0,>=0.1.125->langchain-community) (1.0.9)\n",
      "Requirement already satisfied: idna in /Users/eduardo/Dropbox/Ed Work/Coding Projects/Tutorials/.venv/lib/python3.13/site-packages (from httpx<1,>=0.23.0->langsmith<1.0.0,>=0.1.125->langchain-community) (3.11)\n",
      "Requirement already satisfied: h11>=0.16 in /Users/eduardo/Dropbox/Ed Work/Coding Projects/Tutorials/.venv/lib/python3.13/site-packages (from httpcore==1.*->httpx<1,>=0.23.0->langsmith<1.0.0,>=0.1.125->langchain-community) (0.16.0)\n",
      "Requirement already satisfied: annotated-types>=0.6.0 in /Users/eduardo/Dropbox/Ed Work/Coding Projects/Tutorials/.venv/lib/python3.13/site-packages (from pydantic<3.0.0,>=2.7.4->langchain<2.0.0,>=0.3.27->langchain-community) (0.7.0)\n",
      "Requirement already satisfied: pydantic-core==2.41.4 in /Users/eduardo/Dropbox/Ed Work/Coding Projects/Tutorials/.venv/lib/python3.13/site-packages (from pydantic<3.0.0,>=2.7.4->langchain<2.0.0,>=0.3.27->langchain-community) (2.41.4)\n",
      "Requirement already satisfied: typing-inspection>=0.4.2 in /Users/eduardo/Dropbox/Ed Work/Coding Projects/Tutorials/.venv/lib/python3.13/site-packages (from pydantic<3.0.0,>=2.7.4->langchain<2.0.0,>=0.3.27->langchain-community) (0.4.2)\n",
      "Requirement already satisfied: python-dotenv>=0.21.0 in /Users/eduardo/Dropbox/Ed Work/Coding Projects/Tutorials/.venv/lib/python3.13/site-packages (from pydantic-settings<3.0.0,>=2.10.1->langchain-community) (1.1.1)\n",
      "Requirement already satisfied: charset_normalizer<4,>=2 in /Users/eduardo/Dropbox/Ed Work/Coding Projects/Tutorials/.venv/lib/python3.13/site-packages (from requests<3.0.0,>=2.32.5->langchain-community) (3.4.4)\n",
      "Requirement already satisfied: urllib3<3,>=1.21.1 in /Users/eduardo/Dropbox/Ed Work/Coding Projects/Tutorials/.venv/lib/python3.13/site-packages (from requests<3.0.0,>=2.32.5->langchain-community) (2.5.0)\n",
      "Requirement already satisfied: mypy-extensions>=0.3.0 in /Users/eduardo/Dropbox/Ed Work/Coding Projects/Tutorials/.venv/lib/python3.13/site-packages (from typing-inspect<1,>=0.4.0->dataclasses-json<0.7.0,>=0.6.7->langchain-community) (1.1.0)\n",
      "Requirement already satisfied: sniffio>=1.1 in /Users/eduardo/Dropbox/Ed Work/Coding Projects/Tutorials/.venv/lib/python3.13/site-packages (from anyio->httpx<1,>=0.23.0->langsmith<1.0.0,>=0.1.125->langchain-community) (1.3.1)\n",
      "Note: you may need to restart the kernel to use updated packages.\n",
      "Requirement already satisfied: langchain-core in /Users/eduardo/Dropbox/Ed Work/Coding Projects/Tutorials/.venv/lib/python3.13/site-packages (0.3.79)\n",
      "Requirement already satisfied: langsmith<1.0.0,>=0.3.45 in /Users/eduardo/Dropbox/Ed Work/Coding Projects/Tutorials/.venv/lib/python3.13/site-packages (from langchain-core) (0.4.35)\n",
      "Requirement already satisfied: tenacity!=8.4.0,<10.0.0,>=8.1.0 in /Users/eduardo/Dropbox/Ed Work/Coding Projects/Tutorials/.venv/lib/python3.13/site-packages (from langchain-core) (9.1.2)\n",
      "Requirement already satisfied: jsonpatch<2.0.0,>=1.33.0 in /Users/eduardo/Dropbox/Ed Work/Coding Projects/Tutorials/.venv/lib/python3.13/site-packages (from langchain-core) (1.33)\n",
      "Requirement already satisfied: PyYAML<7.0.0,>=5.3.0 in /Users/eduardo/Dropbox/Ed Work/Coding Projects/Tutorials/.venv/lib/python3.13/site-packages (from langchain-core) (6.0.3)\n",
      "Requirement already satisfied: typing-extensions<5.0.0,>=4.7.0 in /Users/eduardo/Dropbox/Ed Work/Coding Projects/Tutorials/.venv/lib/python3.13/site-packages (from langchain-core) (4.15.0)\n",
      "Requirement already satisfied: packaging<26.0.0,>=23.2.0 in /Users/eduardo/Dropbox/Ed Work/Coding Projects/Tutorials/.venv/lib/python3.13/site-packages (from langchain-core) (25.0)\n",
      "Requirement already satisfied: pydantic<3.0.0,>=2.7.4 in /Users/eduardo/Dropbox/Ed Work/Coding Projects/Tutorials/.venv/lib/python3.13/site-packages (from langchain-core) (2.12.2)\n",
      "Requirement already satisfied: jsonpointer>=1.9 in /Users/eduardo/Dropbox/Ed Work/Coding Projects/Tutorials/.venv/lib/python3.13/site-packages (from jsonpatch<2.0.0,>=1.33.0->langchain-core) (3.0.0)\n",
      "Requirement already satisfied: httpx<1,>=0.23.0 in /Users/eduardo/Dropbox/Ed Work/Coding Projects/Tutorials/.venv/lib/python3.13/site-packages (from langsmith<1.0.0,>=0.3.45->langchain-core) (0.28.1)\n",
      "Requirement already satisfied: orjson>=3.9.14 in /Users/eduardo/Dropbox/Ed Work/Coding Projects/Tutorials/.venv/lib/python3.13/site-packages (from langsmith<1.0.0,>=0.3.45->langchain-core) (3.11.3)\n",
      "Requirement already satisfied: requests-toolbelt>=1.0.0 in /Users/eduardo/Dropbox/Ed Work/Coding Projects/Tutorials/.venv/lib/python3.13/site-packages (from langsmith<1.0.0,>=0.3.45->langchain-core) (1.0.0)\n",
      "Requirement already satisfied: requests>=2.0.0 in /Users/eduardo/Dropbox/Ed Work/Coding Projects/Tutorials/.venv/lib/python3.13/site-packages (from langsmith<1.0.0,>=0.3.45->langchain-core) (2.32.5)\n",
      "Requirement already satisfied: zstandard>=0.23.0 in /Users/eduardo/Dropbox/Ed Work/Coding Projects/Tutorials/.venv/lib/python3.13/site-packages (from langsmith<1.0.0,>=0.3.45->langchain-core) (0.25.0)\n",
      "Requirement already satisfied: anyio in /Users/eduardo/Dropbox/Ed Work/Coding Projects/Tutorials/.venv/lib/python3.13/site-packages (from httpx<1,>=0.23.0->langsmith<1.0.0,>=0.3.45->langchain-core) (4.11.0)\n",
      "Requirement already satisfied: certifi in /Users/eduardo/Dropbox/Ed Work/Coding Projects/Tutorials/.venv/lib/python3.13/site-packages (from httpx<1,>=0.23.0->langsmith<1.0.0,>=0.3.45->langchain-core) (2025.10.5)\n",
      "Requirement already satisfied: httpcore==1.* in /Users/eduardo/Dropbox/Ed Work/Coding Projects/Tutorials/.venv/lib/python3.13/site-packages (from httpx<1,>=0.23.0->langsmith<1.0.0,>=0.3.45->langchain-core) (1.0.9)\n",
      "Requirement already satisfied: idna in /Users/eduardo/Dropbox/Ed Work/Coding Projects/Tutorials/.venv/lib/python3.13/site-packages (from httpx<1,>=0.23.0->langsmith<1.0.0,>=0.3.45->langchain-core) (3.11)\n",
      "Requirement already satisfied: h11>=0.16 in /Users/eduardo/Dropbox/Ed Work/Coding Projects/Tutorials/.venv/lib/python3.13/site-packages (from httpcore==1.*->httpx<1,>=0.23.0->langsmith<1.0.0,>=0.3.45->langchain-core) (0.16.0)\n",
      "Requirement already satisfied: annotated-types>=0.6.0 in /Users/eduardo/Dropbox/Ed Work/Coding Projects/Tutorials/.venv/lib/python3.13/site-packages (from pydantic<3.0.0,>=2.7.4->langchain-core) (0.7.0)\n",
      "Requirement already satisfied: pydantic-core==2.41.4 in /Users/eduardo/Dropbox/Ed Work/Coding Projects/Tutorials/.venv/lib/python3.13/site-packages (from pydantic<3.0.0,>=2.7.4->langchain-core) (2.41.4)\n",
      "Requirement already satisfied: typing-inspection>=0.4.2 in /Users/eduardo/Dropbox/Ed Work/Coding Projects/Tutorials/.venv/lib/python3.13/site-packages (from pydantic<3.0.0,>=2.7.4->langchain-core) (0.4.2)\n",
      "Requirement already satisfied: charset_normalizer<4,>=2 in /Users/eduardo/Dropbox/Ed Work/Coding Projects/Tutorials/.venv/lib/python3.13/site-packages (from requests>=2.0.0->langsmith<1.0.0,>=0.3.45->langchain-core) (3.4.4)\n",
      "Requirement already satisfied: urllib3<3,>=1.21.1 in /Users/eduardo/Dropbox/Ed Work/Coding Projects/Tutorials/.venv/lib/python3.13/site-packages (from requests>=2.0.0->langsmith<1.0.0,>=0.3.45->langchain-core) (2.5.0)\n",
      "Requirement already satisfied: sniffio>=1.1 in /Users/eduardo/Dropbox/Ed Work/Coding Projects/Tutorials/.venv/lib/python3.13/site-packages (from anyio->httpx<1,>=0.23.0->langsmith<1.0.0,>=0.3.45->langchain-core) (1.3.1)\n",
      "Note: you may need to restart the kernel to use updated packages.\n",
      "Requirement already satisfied: faiss-cpu in /Users/eduardo/Dropbox/Ed Work/Coding Projects/Tutorials/.venv/lib/python3.13/site-packages (1.12.0)\n",
      "Requirement already satisfied: numpy<3.0,>=1.25.0 in /Users/eduardo/Dropbox/Ed Work/Coding Projects/Tutorials/.venv/lib/python3.13/site-packages (from faiss-cpu) (2.2.6)\n",
      "Requirement already satisfied: packaging in /Users/eduardo/Dropbox/Ed Work/Coding Projects/Tutorials/.venv/lib/python3.13/site-packages (from faiss-cpu) (25.0)\n",
      "Note: you may need to restart the kernel to use updated packages.\n"
     ]
    }
   ],
   "source": [
    "%pip install langchain-ollama\n",
    "%pip install langchain-community\n",
    "%pip install langchain-core\n",
    "%pip install faiss-cpu"
   ]
  },
  {
   "cell_type": "markdown",
   "id": "642b6c7d",
   "metadata": {},
   "source": [
    "Loading libraries"
   ]
  },
  {
   "cell_type": "code",
   "execution_count": 4,
   "id": "021f0e37",
   "metadata": {},
   "outputs": [
    {
     "data": {
      "text/plain": [
       "'TRUE'"
      ]
     },
     "execution_count": 4,
     "metadata": {},
     "output_type": "execute_result"
    }
   ],
   "source": [
    "from langchain_ollama import OllamaLLM, OllamaEmbeddings\n",
    "from langchain_community.vectorstores import FAISS\n",
    "from langchain_core.documents import Document\n",
    "\n",
    "# to prevent Error #15: Initializing libomp.dylib\n",
    "import os\n",
    "os.environ.setdefault(\"KMP_DUPLICATE_LIB_OK\", \"TRUE\")"
   ]
  },
  {
   "cell_type": "markdown",
   "id": "a7baeabf",
   "metadata": {},
   "source": [
    "### Setting up knowledge repository"
   ]
  },
  {
   "cell_type": "markdown",
   "id": "bf03f3db",
   "metadata": {},
   "source": [
    "We will store all documents in a single array called `documents`"
   ]
  },
  {
   "cell_type": "code",
   "execution_count": 14,
   "id": "0b6bd1a4",
   "metadata": {},
   "outputs": [],
   "source": [
    "documents = [\n",
    "    {\n",
    "        \"doc_id\": 1,\n",
    "        \"title\": \"Bridget Jones: The Edge of Reason (2004)\",\n",
    "        \"text\": \"Bridget Jones: The Edge of Reason (2004) - Bridget is currently living a happy life with her lawyer boyfriend Mark Darcy, however not only does she start to become threatened and jealous of Mark's new young intern, she is angered by the fact Mark is a Conservative voter. With so many issues already at hand, things get worse for Bridget as her ex-lover, Daniel Cleaver, re-enters her life; the only help she has are her friends and her reliable diary.\",\n",
    "        \"source\": \"\"\n",
    "    },\n",
    "    {\n",
    "        \"doc_id\": 2,\n",
    "        \"title\": \"Bridget Jones's Baby (2016)\",\n",
    "        \"text\": \"Bridget Jones's Baby (2016) - Bridget Jones is struggling with her current state of life, including her break up with her love Mark Darcy. As she pushes forward and works hard to find fulfilment in her life seems to do wonders until she meets a dashing and handsome American named Jack Quant. Things from then on go great, until she discovers that she is pregnant but the biggest twist of all, she does not know if Mark or Jack is the father of her child.\",\n",
    "        \"source\": \"\"\n",
    "    },\n",
    "    {\n",
    "        \"doc_id\": 3,\n",
    "        \"title\": \"Bridget Jones's Diary (2001)\",\n",
    "        \"text\": \"Bridget Jones's Diary (2001) - Bridget Jones is a binge drinking and chain smoking thirty-something British woman trying to keep her love life in order while also dealing with her job as a publisher. When she attends a Christmas party with her parents, they try to set her up with their neighbours' son, Mark. After being snubbed by Mark, she starts to fall for her boss Daniel, a handsome man who begins to send her suggestive e-mails that leads to a dinner date. Daniel reveals that he and Mark attended college together, in that time Mark had an affair with his fiancée. Bridget decides to get a new job as a TV presenter after finding Daniel being frisky with a colleague. At a dinner party, she runs into Mark who expresses his affection for her, Daniel claims he wants Bridget back, the two fight over her and Bridget must make a decision who she wants to be with.\",\n",
    "        \"source\": \"\"\n",
    "    },\n",
    "]"
   ]
  },
  {
   "cell_type": "markdown",
   "id": "bb1a5de3",
   "metadata": {},
   "source": [
    "### Building the knowledge store"
   ]
  },
  {
   "cell_type": "markdown",
   "id": "2870b283",
   "metadata": {},
   "source": [
    "We create the vector store in memory"
   ]
  },
  {
   "cell_type": "code",
   "execution_count": 10,
   "id": "b4cefb7b",
   "metadata": {},
   "outputs": [],
   "source": [
    "emb = OllamaEmbeddings(model=\"nomic-embed-text\")\n",
    "docs = [\n",
    "    Document(page_content=rec[\"text\"], metadata={\"title\": rec[\"title\"], \"doc_id\": rec[\"doc_id\"]})\n",
    "    for rec in documents\n",
    "]\n",
    "vs = FAISS.from_documents(docs, emb)\n",
    "retriever = vs.as_retriever(search_kwargs={\"k\": 2})\n"
   ]
  },
  {
   "cell_type": "markdown",
   "id": "d0778c7c",
   "metadata": {},
   "source": [
    "### LLM RAG"
   ]
  },
  {
   "cell_type": "markdown",
   "id": "f252b0d7",
   "metadata": {},
   "source": [
    "We use Granite4:micro running locally on Ollama to create a minimal RAG to answer questions from `documents`. To download this model run the commands `ollama pull granite4:micro`"
   ]
  },
  {
   "cell_type": "code",
   "execution_count": 15,
   "id": "2eccc023",
   "metadata": {},
   "outputs": [],
   "source": [
    "llm = OllamaLLM(model=\"granite4:micro\")  # local inference\n",
    "\n",
    "def answer(question: str) -> str:\n",
    "    # 1) retrieve\n",
    "    ctx_docs = retriever.invoke(question)\n",
    "    context = \"\\n\\n\".join(f\"- {d.metadata.get('title')}: {d.page_content}\" for d in ctx_docs)\n",
    "\n",
    "    # 2) simple prompt (stuff the context)\n",
    "    prompt = f\"\"\"You are a helpful assistant. Use ONLY the context to answer.\n",
    "\n",
    "Context:\n",
    "{context}\n",
    "\n",
    "Question: {question}\n",
    "Answer (concise):\"\"\"\n",
    "    # 3) generate\n",
    "    return llm.invoke(prompt)\n"
   ]
  },
  {
   "cell_type": "code",
   "execution_count": 16,
   "id": "6bf0e531",
   "metadata": {},
   "outputs": [
    {
     "name": "stdout",
     "output_type": "stream",
     "text": [
      "Q: Who are the two possible fathers of Bridget's baby?\n",
      "A: Mark Darcy and Jack Quant.\n"
     ]
    }
   ],
   "source": [
    "q = \"Who are the two possible fathers of Bridget's baby?\"\n",
    "print(\"Q:\", q)\n",
    "print(\"A:\", answer(q))"
   ]
  }
 ],
 "metadata": {
  "kernelspec": {
   "display_name": ".venv",
   "language": "python",
   "name": "python3"
  },
  "language_info": {
   "codemirror_mode": {
    "name": "ipython",
    "version": 3
   },
   "file_extension": ".py",
   "mimetype": "text/x-python",
   "name": "python",
   "nbconvert_exporter": "python",
   "pygments_lexer": "ipython3",
   "version": "3.13.2"
  }
 },
 "nbformat": 4,
 "nbformat_minor": 5
}
