{
 "cells": [
  {
   "cell_type": "markdown",
   "id": "7ea19f96",
   "metadata": {},
   "source": [
    "# Building a minimal RAG with Granite 4 Micro\n",
    "\n",
    "This notebook shows how to use the IBM Granite 4 Micro LLM, which doesn't require GPUs and can be used in even machines with basic configuraitons, to build a RAG applications in 3 simple steps. "
   ]
  },
  {
   "cell_type": "markdown",
   "id": "663846da",
   "metadata": {},
   "source": [
    "### Loading Libraries"
   ]
  },
  {
   "cell_type": "code",
   "execution_count": 12,
   "id": "021f0e37",
   "metadata": {},
   "outputs": [],
   "source": [
    "from langchain_ollama import OllamaLLM, OllamaEmbeddings\n",
    "from langchain_community.vectorstores import FAISS\n",
    "from langchain_core.documents import Document"
   ]
  },
  {
   "cell_type": "markdown",
   "id": "a7baeabf",
   "metadata": {},
   "source": [
    "### Setting up knowledge repository"
   ]
  },
  {
   "cell_type": "code",
   "execution_count": 13,
   "id": "0b6bd1a4",
   "metadata": {},
   "outputs": [],
   "source": [
    "documents = [\n",
    "    {\n",
    "        \"doc_id\": 1,\n",
    "        \"title\": \"Bridget Jones: The Edge of Reason (2004)\",\n",
    "        \"text\": \"Bridget Jones: The Edge of Reason (2004) - Bridget is currently living a happy life with her lawyer boyfriend Mark Darcy, however not only does she start to become threatened and jealous of Mark's new young intern, she is angered by the fact Mark is a Conservative voter. With so many issues already at hand, things get worse for Bridget as her ex-lover, Daniel Cleaver, re-enters her life; the only help she has are her friends and her reliable diary.\",\n",
    "        \"source\": \"\"\n",
    "    },\n",
    "    {\n",
    "        \"doc_id\": 2,\n",
    "        \"title\": \"Bridget Jones's Baby (2016)\",\n",
    "        \"text\": \"Bridget Jones's Baby (2016) - Bridget Jones is struggling with her current state of life, including her break up with her love Mark Darcy. As she pushes forward and works hard to find fulfilment in her life seems to do wonders until she meets a dashing and handsome American named Jack Quant. Things from then on go great, until she discovers that she is pregnant but the biggest twist of all, she does not know if Mark or Jack is the father of her child.\",\n",
    "        \"source\": \"\"\n",
    "    },\n",
    "    {\n",
    "        \"doc_id\": 3,\n",
    "        \"title\": \"Bridget Jones's Diary (2001)\",\n",
    "        \"text\": \"Bridget Jones's Diary (2001) - Bridget Jones is a binge drinking and chain smoking thirty-something British woman trying to keep her love life in order while also dealing with her job as a publisher. When she attends a Christmas party with her parents, they try to set her up with their neighbours' son, Mark. After being snubbed by Mark, she starts to fall for her boss Daniel, a handsome man who begins to send her suggestive e-mails that leads to a dinner date. Daniel reveals that he and Mark attended college together, in that time Mark had an affair with his fiancée. Bridget decides to get a new job as a TV presenter after finding Daniel being frisky with a colleague. At a dinner party, she runs into Mark who expresses his affection for her, Daniel claims he wants Bridget back, the two fight over her and Bridget must make a decision who she wants to be with.\",\n",
    "        \"source\": \"\"\n",
    "    },\n",
    "]"
   ]
  },
  {
   "cell_type": "markdown",
   "id": "bb1a5de3",
   "metadata": {},
   "source": [
    "### Building the knowledge store"
   ]
  },
  {
   "cell_type": "code",
   "execution_count": 14,
   "id": "b4cefb7b",
   "metadata": {},
   "outputs": [],
   "source": [
    "emb = OllamaEmbeddings(model=\"nomic-embed-text\")\n",
    "docs = [\n",
    "    Document(page_content=rec[\"text\"], metadata={\"title\": rec[\"title\"], \"doc_id\": rec[\"doc_id\"]})\n",
    "    for rec in documents\n",
    "]\n",
    "vs = FAISS.from_documents(docs, emb)\n",
    "retriever = vs.as_retriever(search_kwargs={\"k\": 2})\n"
   ]
  },
  {
   "cell_type": "markdown",
   "id": "d0778c7c",
   "metadata": {},
   "source": [
    "### LLM RAG"
   ]
  },
  {
   "cell_type": "code",
   "execution_count": 15,
   "id": "2eccc023",
   "metadata": {},
   "outputs": [],
   "source": [
    "llm = OllamaLLM(model=\"granite4:micro\")  # local inference\n",
    "\n",
    "def answer(question: str) -> str:\n",
    "    # 1) retrieve\n",
    "    ctx_docs = retriever.invoke(question)\n",
    "    context = \"\\n\\n\".join(f\"- {d.metadata.get('title')}: {d.page_content}\" for d in ctx_docs)\n",
    "\n",
    "    # 2) simple prompt (stuff the context)\n",
    "    prompt = f\"\"\"You are a helpful assistant. Use ONLY the context to answer.\n",
    "\n",
    "Context:\n",
    "{context}\n",
    "\n",
    "Question: {question}\n",
    "Answer (concise):\"\"\"\n",
    "    # 3) generate\n",
    "    return llm.invoke(prompt)\n"
   ]
  },
  {
   "cell_type": "code",
   "execution_count": 16,
   "id": "6bf0e531",
   "metadata": {},
   "outputs": [
    {
     "name": "stdout",
     "output_type": "stream",
     "text": [
      "Q: Who are the two possible fathers of Bridget's baby?\n",
      "A: The two possible fathers of Bridget's baby are Mark Darcy and Jack Quant.\n"
     ]
    }
   ],
   "source": [
    "q = \"Who are the two possible fathers of Bridget's baby?\"\n",
    "print(\"Q:\", q)\n",
    "print(\"A:\", answer(q))"
   ]
  }
 ],
 "metadata": {
  "kernelspec": {
   "display_name": ".venv",
   "language": "python",
   "name": "python3"
  },
  "language_info": {
   "codemirror_mode": {
    "name": "ipython",
    "version": 3
   },
   "file_extension": ".py",
   "mimetype": "text/x-python",
   "name": "python",
   "nbconvert_exporter": "python",
   "pygments_lexer": "ipython3",
   "version": "3.13.2"
  }
 },
 "nbformat": 4,
 "nbformat_minor": 5
}
