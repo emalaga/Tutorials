{
 "cells": [
  {
   "cell_type": "markdown",
   "id": "0da06a2e",
   "metadata": {},
   "source": [
    "## Installation\n",
    "Uncomment and run this only once"
   ]
  },
  {
   "cell_type": "code",
   "execution_count": null,
   "id": "2af0d9ab",
   "metadata": {},
   "outputs": [],
   "source": [
    "%pip install docling"
   ]
  },
  {
   "cell_type": "markdown",
   "id": "c0ea1c32",
   "metadata": {},
   "source": [
    "## Importing Libraries"
   ]
  },
  {
   "cell_type": "code",
   "execution_count": null,
   "id": "e152bd6b",
   "metadata": {},
   "outputs": [],
   "source": [
    "from docling.document_converter import DocumentConverter"
   ]
  },
  {
   "cell_type": "markdown",
   "id": "3facbaef",
   "metadata": {},
   "source": [
    "## Analyzing the source\n",
    "\n",
    "First we set the source and parse it with docling's DocumentConverter"
   ]
  },
  {
   "cell_type": "code",
   "execution_count": null,
   "id": "133d4241",
   "metadata": {},
   "outputs": [],
   "source": [
    "\n",
    "source = \"https://arxiv.org/pdf/2408.09869\"\n",
    "converter = DocumentConverter()\n",
    "doc = converter.convert(source).document"
   ]
  },
  {
   "cell_type": "markdown",
   "id": "208b9476",
   "metadata": {},
   "source": [
    "Displaying the markdown representation of the PDF"
   ]
  },
  {
   "cell_type": "code",
   "execution_count": null,
   "id": "c387bc30",
   "metadata": {},
   "outputs": [],
   "source": [
    "from IPython.display import HTML, display\n",
    "\n",
    "# Convert markdown to HTML and display in scrollable div\n",
    "from markdown import markdown\n",
    "html_content = markdown(doc.export_to_markdown())\n",
    "\n",
    "display(HTML(f'''\n",
    "<div style=\"max-height: 600px; overflow-y: auto; border: 1px solid #ddd; padding: 10px;\">\n",
    "    {html_content}\n",
    "</div>\n",
    "'''))"
   ]
  },
  {
   "cell_type": "markdown",
   "id": "3a72e310",
   "metadata": {},
   "source": [
    "## Creating a RAG application\n",
    "This section splits the text using the markdown headers, process it using an embeddling model and creates a FAISS vector store"
   ]
  },
  {
   "cell_type": "code",
   "execution_count": null,
   "id": "qiggybfrvfr",
   "metadata": {},
   "outputs": [],
   "source": [
    "# Minimal RAG Application\n",
    "\n",
    "# 1. Get markdown content from the document\n",
    "markdown_content = doc.export_to_markdown()\n",
    "\n",
    "# 2. Split text by markdown headers\n",
    "from langchain_text_splitters import MarkdownHeaderTextSplitter\n",
    "headers_to_split_on = [\n",
    "    (\"#\", \"Header 1\"),\n",
    "    (\"##\", \"Header 2\"),\n",
    "    (\"###\", \"Header 3\"),\n",
    "]\n",
    "markdown_splitter = MarkdownHeaderTextSplitter(headers_to_split_on=headers_to_split_on)\n",
    "md_header_splits = markdown_splitter.split_text(markdown_content)\n",
    "print(f\"Split into {len(md_header_splits)} chunks\")\n",
    "\n",
    "# 3. Create embeddings using HuggingFace model\n",
    "from langchain_huggingface import HuggingFaceEmbeddings\n",
    "embeddings = HuggingFaceEmbeddings(model_name=\"sentence-transformers/all-MiniLM-L6-v2\")\n",
    "\n",
    "# 4. Create FAISS vector store\n",
    "from langchain_community.vectorstores import FAISS\n",
    "vectorstore = FAISS.from_documents(md_header_splits, embeddings)\n",
    "\n",
    "# 5. Create retriever\n",
    "retriever = vectorstore.as_retriever(search_kwargs={\"k\": 3})\n",
    "\n",
    "# 6. Set up the LLM\n",
    "from langchain_ollama import OllamaLLM\n",
    "\n",
    "llm = OllamaLLM(model=\"granite4:micro\")\n",
    "\n",
    "# 7. Create RAG chain\n",
    "from langchain.chains import RetrievalQA\n",
    "\n",
    "qa_chain = RetrievalQA.from_chain_type(\n",
    "    llm=llm,\n",
    "    chain_type=\"stuff\",\n",
    "    retriever=retriever,\n",
    "    return_source_documents=True\n",
    ")\n",
    "\n"
   ]
  },
  {
   "cell_type": "markdown",
   "id": "2d89552c",
   "metadata": {},
   "source": [
    "Asking questions"
   ]
  },
  {
   "cell_type": "code",
   "execution_count": null,
   "id": "2d89fc21",
   "metadata": {},
   "outputs": [],
   "source": [
    "# 8. Test with a question\n",
    "question = \"What is this document about?\"\n",
    "result = qa_chain.invoke({\"query\": question})\n",
    "\n",
    "print(f\"\\nQuestion: {question}\")\n",
    "print(f\"\\nAnswer: {result['result']}\")"
   ]
  }
 ],
 "metadata": {
  "kernelspec": {
   "display_name": ".venv",
   "language": "python",
   "name": "python3"
  },
  "language_info": {
   "codemirror_mode": {
    "name": "ipython",
    "version": 3
   },
   "file_extension": ".py",
   "mimetype": "text/x-python",
   "name": "python",
   "nbconvert_exporter": "python",
   "pygments_lexer": "ipython3",
   "version": "3.13.2"
  }
 },
 "nbformat": 4,
 "nbformat_minor": 5
}
